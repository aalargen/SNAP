{
 "cells": [
  {
   "cell_type": "markdown",
   "metadata": {},
   "source": [
    "This repo is for finding the theoretical/empirical error quickly"
   ]
  },
  {
   "cell_type": "markdown",
   "metadata": {},
   "source": [
    "# Imports"
   ]
  },
  {
   "cell_type": "code",
   "execution_count": 30,
   "metadata": {},
   "outputs": [],
   "source": [
    "import os\n",
    "import numpy as np\n",
    "\n",
    "from snap.wrapper import TorchWrapper\n",
    "from snap.experiment import Experiment\n",
    "from snap.nsd_data import get_neural_data\n",
    "from snap.regression_utils_dd import regression_metric\n",
    "import snap.models as models\n",
    "\n",
    "import matplotlib.pyplot as plt"
   ]
  },
  {
   "cell_type": "markdown",
   "metadata": {},
   "source": [
    "# Regression"
   ]
  },
  {
   "cell_type": "markdown",
   "metadata": {},
   "source": [
    "## Set Important Variables"
   ]
  },
  {
   "cell_type": "code",
   "execution_count": 2,
   "metadata": {},
   "outputs": [],
   "source": [
    "device = 'cuda'"
   ]
  },
  {
   "cell_type": "markdown",
   "metadata": {},
   "source": [
    "Model args"
   ]
  },
  {
   "cell_type": "code",
   "execution_count": 3,
   "metadata": {},
   "outputs": [],
   "source": [
    "modelNames = ['resnet50']\n",
    "regionNames = ['V1']\n",
    "activation_pooling = [None]\n",
    "rand_proj_dim = None \n",
    "trained = True"
   ]
  },
  {
   "cell_type": "markdown",
   "metadata": {},
   "source": [
    "Regression args"
   ]
  },
  {
   "cell_type": "code",
   "execution_count": 4,
   "metadata": {},
   "outputs": [],
   "source": [
    "reg = np.logspace(-14, 6, 27).tolist() # alpha(s) to search through in ridge regression\n",
    "num_trials = 1 # number of regresssions to run (they're averaged afterwards)"
   ]
  },
  {
   "cell_type": "markdown",
   "metadata": {},
   "source": [
    "Data Loader args"
   ]
  },
  {
   "cell_type": "code",
   "execution_count": 5,
   "metadata": {},
   "outputs": [],
   "source": [
    "num_samples = None # number of image:activity pairs to take from data\n",
    "\n",
    "loader_kwargs = {'batch_size': 128,\n",
    "                 'shuffle': False,\n",
    "                 'num_workers': 4,\n",
    "                 'pin_memory': True,\n",
    "                }      \n",
    "\n",
    "small_nsd_path = '/mnt/ceph/users/alargen/small_nsd/'"
   ]
  },
  {
   "cell_type": "markdown",
   "metadata": {},
   "source": [
    "## Run the regression"
   ]
  },
  {
   "cell_type": "code",
   "execution_count": 12,
   "metadata": {},
   "outputs": [],
   "source": [
    "def run_regression(model_name, data_loader_neural, images, labels, pooling):\n",
    "    # Get the model\n",
    "    model_kwargs = {'name': model_name,\n",
    "                    'pretrained': trained,\n",
    "                    'device': device}\n",
    "    model, layers, identifier = models.get_model(**model_kwargs)\n",
    "    model_wrapped = TorchWrapper(model,\n",
    "                                layers=[], \n",
    "                                # layers=layers,\n",
    "                                identifier=identifier,\n",
    "                                activation_pooling=pooling)\n",
    "\n",
    "    # Create the Experiment Class and pass additional metrics\n",
    "    regression_kwargs = {'num_trials': num_trials, \n",
    "                        'reg': reg,\n",
    "                        'num_points': 5, # this one doesn't do anything\n",
    "                        }\n",
    "\n",
    "    metric_fns = [regression_metric]\n",
    "    exp = Experiment(model_wrapped,\n",
    "                    metric_fns=metric_fns,\n",
    "                    rand_proj_dim=rand_proj_dim)\n",
    "\n",
    "    # Extract the activations of the layers passed above\n",
    "    # using data_loader (only uses the inputs)\n",
    "    exp.get_activations(data_loader_neural)\n",
    "\n",
    "    # Compute metrics\n",
    "    metric_kwargs = {'debug': False,\n",
    "                    'epsilon': 1e-14\n",
    "                    } | regression_kwargs\n",
    "\n",
    "    exp_metrics = exp.compute_metrics(images=images,\n",
    "                                        labels=labels,\n",
    "                                        **metric_kwargs)\n",
    "    return exp_metrics"
   ]
  },
  {
   "cell_type": "code",
   "execution_count": 13,
   "metadata": {},
   "outputs": [
    {
     "name": "stdout",
     "output_type": "stream",
     "text": [
      "Shape of images: torch.Size([1000, 3, 224, 224])\n",
      "Shape of brain responses: torch.Size([1000, 1110])\n",
      "\n",
      "\n",
      "\n",
      "Analyzing resnet50\n",
      "Getting layer activations...\n",
      "Computing metrics...\n",
      "Computing metrics for ['image_layer', 'response_layer']\n",
      "{'image_layer': torch.Size([1000, 150528]), 'response_layer': torch.Size([1000, 1110])}\n",
      "Computing spectrum...\n"
     ]
    },
    {
     "name": "stderr",
     "output_type": "stream",
     "text": [
      "Layer: 100%|██████████| 2/2 [00:00<00:00,  3.24it/s]\n"
     ]
    },
    {
     "name": "stdout",
     "output_type": "stream",
     "text": [
      "Computing regression_metric...\n"
     ]
    },
    {
     "name": "stderr",
     "output_type": "stream",
     "text": [
      "Layer:   0%|          | 0/2 [00:00<?, ?it/s]"
     ]
    },
    {
     "name": "stdout",
     "output_type": "stream",
     "text": [
      "\n",
      " N: 150528, p: 600, Best Alpha: 1000000.0\n",
      "\n",
      " N: 150528, p: 800, Best Alpha: 1000000.0\n"
     ]
    },
    {
     "name": "stderr",
     "output_type": "stream",
     "text": [
      "An NVIDIA GPU may be present on this machine, but a CUDA-enabled jaxlib is not installed. Falling back to cpu.\n"
     ]
    },
    {
     "name": "stdout",
     "output_type": "stream",
     "text": [
      "\n",
      " N: 150528, p: 600, Best Alpha: 1000000.0\n",
      "\n",
      " N: 150528, p: 800, Best Alpha: 1000000.0\n"
     ]
    },
    {
     "name": "stderr",
     "output_type": "stream",
     "text": [
      "Layer:  50%|█████     | 1/2 [01:48<01:48, 108.69s/it]"
     ]
    },
    {
     "name": "stdout",
     "output_type": "stream",
     "text": [
      "\n",
      " N: 1110, p: 600, Best Alpha: 1e-14\n",
      "\n",
      " N: 1110, p: 800, Best Alpha: 1e-14\n",
      "\n",
      " N: 1110, p: 600, Best Alpha: 1e-14\n"
     ]
    },
    {
     "name": "stderr",
     "output_type": "stream",
     "text": [
      "Layer: 100%|██████████| 2/2 [03:26<00:00, 103.09s/it]"
     ]
    },
    {
     "name": "stdout",
     "output_type": "stream",
     "text": [
      "\n",
      " N: 1110, p: 800, Best Alpha: 1e-14\n",
      "Metric Computation completed!\n"
     ]
    },
    {
     "name": "stderr",
     "output_type": "stream",
     "text": [
      "\n"
     ]
    }
   ],
   "source": [
    "for region in regionNames:\n",
    "    # make the data loader\n",
    "    data_loader_neural, images, labels = get_neural_data(region=region,\n",
    "                                            loader_kwargs=loader_kwargs,\n",
    "                                            data_path=small_nsd_path, num_samples=num_samples)\n",
    "    \n",
    "    for model_name in modelNames:\n",
    "        print(f'\\n\\n\\nAnalyzing {model_name}')\n",
    "        for pooling in activation_pooling:\n",
    "           exp_metrics = run_regression(model_name, data_loader_neural, \n",
    "                                        images, labels, pooling)\n",
    "           \n",
    "           # data visualization or some method of collecting the relevant data should go here"
   ]
  },
  {
   "cell_type": "code",
   "execution_count": 22,
   "metadata": {},
   "outputs": [
    {
     "data": {
      "text/plain": [
       "dict_keys(['pvals', 'P', 'N', 'C', 'cent', 'reg', 'gen_errs', 'tr_errs', 'test_errs', 'r2_gen', 'r2_tr', 'r2_test', 'pearson_tr', 'pearson_test', 'pearson_gen', 'gen_norm', 'tr_norm', 'test_norm', 'pvals_theory', 'kappa', 'gamma', 'eff_regs', 'mode_err_theory', 'gen_theory', 'tr_theory', 'r2_theory'])"
      ]
     },
     "execution_count": 22,
     "metadata": {},
     "output_type": "execute_result"
    }
   ],
   "source": [
    "exp_metrics['regression_metric']['uncent']['image_layer']['responses'].keys()"
   ]
  },
  {
   "cell_type": "code",
   "execution_count": 42,
   "metadata": {},
   "outputs": [
    {
     "data": {
      "text/plain": [
       "(1, 2, 1110)"
      ]
     },
     "execution_count": 42,
     "metadata": {},
     "output_type": "execute_result"
    }
   ],
   "source": [
    "exp_metrics['regression_metric']['uncent']['image_layer']['responses']['gen_errs'].shape \n",
    "# this is num_trials x pvals x num_voxels"
   ]
  }
 ],
 "metadata": {
  "kernelspec": {
   "display_name": "snap",
   "language": "python",
   "name": "snap"
  },
  "language_info": {
   "codemirror_mode": {
    "name": "ipython",
    "version": 3
   },
   "file_extension": ".py",
   "mimetype": "text/x-python",
   "name": "python",
   "nbconvert_exporter": "python",
   "pygments_lexer": "ipython3",
   "version": "3.11.7"
  }
 },
 "nbformat": 4,
 "nbformat_minor": 2
}
