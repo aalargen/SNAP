{
 "cells": [
  {
   "cell_type": "code",
   "execution_count": null,
   "metadata": {},
   "outputs": [],
   "source": [
    "!pip install jupyter scikit-learn gitpython peewee fire psycopg2-binary pybtex\n",
    "!pip install git+https://github.com/brain-score/brainio.git\n",
    "!pip install git+https://github.com/brain-score/result_caching\n",
    "!pip install --no-deps git+https://github.com/brain-score/brain-score"
   ]
  },
  {
   "cell_type": "code",
   "execution_count": null,
   "metadata": {},
   "outputs": [],
   "source": [
    "from google.colab import drive\n",
    "drive.mount('/content/drive')\n",
    "%cd '/content/drive/MyDrive/SNAP'"
   ]
  },
  {
   "cell_type": "code",
   "execution_count": null,
   "metadata": {},
   "outputs": [],
   "source": [
    "import os\n",
    "import numpy as np\n",
    "\n",
    "data_root = './data/'\n",
    "os.makedirs(data_root, exist_ok=True)\n",
    "\n",
    "device = 'cuda'"
   ]
  },
  {
   "cell_type": "code",
   "execution_count": null,
   "metadata": {},
   "outputs": [],
   "source": [
    "from dimensionality.wrapper import TorchWrapper\n",
    "from dimensionality.experiment import Experiment\n",
    "from dimensionality.brainscore_data import get_neural_data\n",
    "from dimensionality.regression_utils import regression_metric\n",
    "import dimensionality.models as models"
   ]
  },
  {
   "cell_type": "code",
   "execution_count": null,
   "metadata": {},
   "outputs": [],
   "source": [
    "region = 'V1'\n",
    "dataset = 'dicarlo'\n",
    "image_type = 'original'  # Only matters for Cadena dataset\n",
    "\n",
    "loader_kwargs = {'batch_size': 800,\n",
    "                 'shuffle': False,\n",
    "                 'num_workers': 4,\n",
    "                 'pin_memory': True,\n",
    "                 'onehot': True,\n",
    "                 'labels_from': 'neural_activity'\n",
    "                 }\n",
    "\n",
    "data_loader_neural, images, labels = get_neural_data(region=region, dataset=dataset, image_type=image_type, loader_kwargs=loader_kwargs)"
   ]
  },
  {
   "cell_type": "markdown",
   "metadata": {},
   "source": [
    "# Experiments"
   ]
  },
  {
   "cell_type": "code",
   "execution_count": null,
   "metadata": {
    "tags": []
   },
   "outputs": [],
   "source": [
    "dataset = 'dicarlo'\n",
    "image_type = 'original'  # Only matters for Cadena dataset\n",
    "\n",
    "regionNames = ['V1',\n",
    "               'V2',\n",
    "               'V4',\n",
    "               'IT'\n",
    "               ]\n",
    "\n",
    "activation_pooling = [None,\n",
    "                      #   'MaxPool_(1,1)',\n",
    "                      #   'AvgPool_(1,1)',\n",
    "                      ]\n",
    "\n",
    "rand_proj_dim = None\n",
    "pretrained = {True: 'pretrained',\n",
    "              False: 'untrained'\n",
    "              }\n",
    "\n",
    "\n",
    "modelNames = ['alexnet', 'resnet18', #'resnet50',\n",
    "              # 'robust_resnet50_l2_3', 'moco_resnet50',\n",
    "            #   'barlowtwins', 'robust_resnet50_linf_4'\n",
    "              ]\n",
    "\n",
    "\n",
    "for region in regionNames:\n",
    "\n",
    "    data_loader_neural, images, labels = get_neural_data(region=region, dataset=dataset, image_type=image_type, loader_kwargs=loader_kwargs)\n",
    "\n",
    "    for model_name in modelNames:\n",
    "\n",
    "        for pooling in activation_pooling:\n",
    "            for trained in [True, False]:\n",
    "\n",
    "                data_dir = os.path.join(data_root, f\"data_{pooling}_RandProj_{rand_proj_dim}\")\n",
    "                data_fname = os.path.join(data_dir, f\"{region}_data_{model_name}_{pretrained[trained]}.npz\")\n",
    "                os.makedirs(data_dir, exist_ok=True)\n",
    "                print(data_fname)\n",
    "\n",
    "                # Get the model\n",
    "                model_kwargs = {'name': model_name,\n",
    "                                'pretrained': trained,\n",
    "                                'device': device}\n",
    "                model, layers, identifier = models.get_model(**model_kwargs)\n",
    "                model_wrapped = TorchWrapper(model, layers=layers, identifier=identifier, activation_pooling=pooling)\n",
    "\n",
    "                # Create the Experiment Class and pass additional metrics\n",
    "                regression_kwargs = {'num_trials': 5,\n",
    "                                     'reg': 1e-14,\n",
    "                                     'num_points': 5,\n",
    "                                     }\n",
    "\n",
    "                metric_fns = [regression_metric]\n",
    "                exp = Experiment(model_wrapped, metric_fns=metric_fns, rand_proj_dim=rand_proj_dim)\n",
    "\n",
    "                # Extract the activations of the layers passed above using data_loader (only uses the inputs)\n",
    "                exp.get_activations(data_loader_neural())\n",
    "\n",
    "                # Compute metrics\n",
    "                metric_kwargs = {'debug': False,\n",
    "                                 'threshold': 1-1e-8,\n",
    "                                 'epsilon': 1e-14\n",
    "                                 } | regression_kwargs\n",
    "\n",
    "                exp_metrics = exp.compute_metrics(images=images, labels=labels, **metric_kwargs)\n",
    "                layers = exp_metrics['layers']\n",
    "\n",
    "                np.savez(data_fname, exp_metrics=exp_metrics, layers=layers, metric_kwargs=metric_kwargs)"
   ]
  },
  {
   "cell_type": "code",
   "execution_count": null,
   "metadata": {},
   "outputs": [],
   "source": []
  }
 ],
 "metadata": {
  "kernelspec": {
   "display_name": "Conda (ffcv)",
   "language": "python",
   "name": "ffcv"
  },
  "language_info": {
   "codemirror_mode": {
    "name": "ipython",
    "version": 3
   },
   "file_extension": ".py",
   "mimetype": "text/x-python",
   "name": "python",
   "nbconvert_exporter": "python",
   "pygments_lexer": "ipython3",
   "version": "3.9.16"
  },
  "vscode": {
   "interpreter": {
    "hash": "646a38c27b25f91c7f2c209818123b42f39f35e324f4a627b8ac987db1a3b2a8"
   }
  }
 },
 "nbformat": 4,
 "nbformat_minor": 4
}
